{
 "cells": [
  {
   "cell_type": "markdown",
   "metadata": {},
   "source": [
    "# Computer Science 2XC3 - Graded Lab II"
   ]
  },
  {
   "cell_type": "markdown",
   "metadata": {},
   "source": [
    "Please refer to the pdf for detailed instructions. The below file contains all the preliminary code you will need to work on the lab. You can copy paste instructions here to create one cohesive lab and organize it that best suits your teams workflow. "
   ]
  },
  {
   "cell_type": "code",
   "execution_count": 31,
   "metadata": {},
   "outputs": [],
   "source": [
    "import random\n",
    "import timeit \n",
    "import matplotlib.pyplot as plt\n",
    "import numpy as np\n",
    "import math\n",
    "from collections import deque"
   ]
  },
  {
   "cell_type": "code",
   "execution_count": 54,
   "metadata": {},
   "outputs": [
    {
     "name": "stdout",
     "output_type": "stream",
     "text": [
      "[[13], [], [], [], [], [], [15], [], [], [], [], [], [], [0], [], [6], [], [], [], []]\n"
     ]
    }
   ],
   "source": [
    "class Graph:\n",
    "    def __init__(self, nodes):\n",
    "        self.graph = [[] for _ in range(nodes)]\n",
    " \n",
    "    def has_edge(self, src, dst):\n",
    "        return src in self.graph[dst]\n",
    "    \n",
    "    def add_edge(self,src,dst):\n",
    "        if not self.has_edge(src,dst):\n",
    "            self.graph[src].append(dst)\n",
    "            self.graph[dst].append(src)\n",
    "    \n",
    "    def get_graph(self):\n",
    "        return self.graph\n",
    "\n",
    "# 1.5\n",
    "def create_random_graph(n, num_edges):\n",
    "    g = Graph(n)\n",
    "\n",
    "    # clean input, any more edges and we'd have repeats\n",
    "    max_edges = (n*(n-1))/2\n",
    "    adjusted_edges = int(min(num_edges, max_edges))\n",
    "\n",
    "    for _ in range(adjusted_edges):\n",
    "        while True:\n",
    "            start = random.randint(0, n-1)\n",
    "            end = random.randint(0, n-1)\n",
    "\n",
    "            if start == end or g.has_edge(start, end):\n",
    "                continue\n",
    "            g.add_edge(start, end)\n",
    "            break\n",
    "\n",
    "    return g\n",
    "\n",
    "myg = create_random_graph(20, 2)\n",
    "print(myg.get_graph())"
   ]
  },
  {
   "cell_type": "code",
   "execution_count": 59,
   "metadata": {},
   "outputs": [
    {
     "name": "stdout",
     "output_type": "stream",
     "text": [
      "[]\n"
     ]
    }
   ],
   "source": [
    "# 1.1\n",
    "\n",
    "def bfs(graph: Graph, n1, n2):\n",
    "    if n1 == n2:\n",
    "        return []\n",
    "    g = graph.get_graph()\n",
    "\n",
    "    # have we seen this node?\n",
    "    visited = set()\n",
    "    visited.add(n1)\n",
    "    q = deque()\n",
    "    q.extend(g[n1])\n",
    "    found = False\n",
    "\n",
    "    # construct a path for all nodes so we can backtrack to the first node\n",
    "    # each key is a child and the value is the parent node\n",
    "    path = {n1: n1}\n",
    "    for first_children in g[n1]:\n",
    "        path[first_children] = n1\n",
    "\n",
    "    while len(q) > 0 and not found:\n",
    "        # ensure we look at the oldest elements first\n",
    "        n = q.popleft()\n",
    "\n",
    "        # run checks\n",
    "        if n == n2:\n",
    "            found = True\n",
    "        if n in visited:\n",
    "            continue\n",
    "\n",
    "        # save info of node\n",
    "        visited.add(n)\n",
    "        q.extend(g[n])\n",
    "        for child in g[n]:\n",
    "            if child not in visited:\n",
    "                path[child] = n\n",
    "\n",
    "    if not found:\n",
    "        return []\n",
    "\n",
    "    # generate our list path\n",
    "    path_out = []\n",
    "    n = n2\n",
    "    while n != n1:\n",
    "        path_out.append(n)\n",
    "        n = path[n]\n",
    "    path_out.append(n1)\n",
    "    path_out.reverse()\n",
    "    return path_out\n",
    "\n",
    "my_bfs = bfs(myg, 1, 1)\n",
    "print(my_bfs)"
   ]
  },
  {
   "cell_type": "code",
   "execution_count": null,
   "metadata": {},
   "outputs": [],
   "source": [
    "def depth_first_search(G,node,end_point=None):\n",
    "    stack = [node]\n",
    "    graph = G.get_graph()\n",
    "    seen=set()\n",
    "\n",
    "    while len(stack) !=0:\n",
    "        node = stack.pop()\n",
    "        # search for neighbours in graph\n",
    "        if node not in seen:\n",
    "            seen.add(node)\n",
    "            print(\"Visited node:\" + str(node))\n",
    "            # if the given node has an edge\n",
    "            if node in graph.keys():\n",
    "                # iterate over edges of node\n",
    "                for nn in graph[node]:\n",
    "\n",
    "                    # limited traversal\n",
    "                    if nn == end_point:\n",
    "                        return True\n",
    "                    # add to stack\n",
    "                    stack.append(nn)"
   ]
  },
  {
   "cell_type": "code",
   "execution_count": null,
   "metadata": {},
   "outputs": [],
   "source": [
    "#Breadth First Search\n",
    "def breadth_first_search(G, start_node):\n",
    "    stack = [start_node]\n",
    "    graph = G.get_graph()\n",
    "    seen=set()\n",
    "\n",
    "    seen.add(start_node)\n",
    "\n",
    "    while len(stack) > 0:\n",
    "        node = stack[0]\n",
    "        stack = stack[1:]\n",
    "        print(\"Visiting node: \" + str(node))\n",
    "        if node in graph.keys():\n",
    "            for nn in graph[node]:\n",
    "                #if node == node2:\n",
    "                #    return True\n",
    "                if nn not in seen:\n",
    "                    stack.append(nn)\n",
    "                    seen.add(nn)"
   ]
  },
  {
   "cell_type": "code",
   "execution_count": null,
   "metadata": {},
   "outputs": [],
   "source": [
    "#Use the methods below to determine minimum vertex covers\n",
    "\n",
    "def add_to_each(sets, element):\n",
    "    copy = sets.copy()\n",
    "    for set in copy:\n",
    "        set.append(element)\n",
    "    return copy\n",
    "\n",
    "def power_set(set):\n",
    "    if set == []:\n",
    "        return [[]]\n",
    "    return power_set(set[1:]) + add_to_each(power_set(set[1:]), set[0])\n",
    "\n",
    "def is_vertex_cover(G, C):\n",
    "    for start in G.adj:\n",
    "        for end in G.adj[start]:\n",
    "            if not(start in C or end in C):\n",
    "                return False\n",
    "    return True\n",
    "\n",
    "def MVC(G):\n",
    "    nodes = [i for i in range(G.get_size())]\n",
    "    subsets = power_set(nodes)\n",
    "    min_cover = nodes\n",
    "    for subset in subsets:\n",
    "        if is_vertex_cover(G, subset):\n",
    "            if len(subset) < len(min_cover):\n",
    "                min_cover = subset\n",
    "    return min_cover\n"
   ]
  },
  {
   "cell_type": "code",
   "execution_count": null,
   "metadata": {},
   "outputs": [],
   "source": []
  }
 ],
 "metadata": {
  "kernelspec": {
   "display_name": "base",
   "language": "python",
   "name": "python3"
  },
  "language_info": {
   "codemirror_mode": {
    "name": "ipython",
    "version": 3
   },
   "file_extension": ".py",
   "mimetype": "text/x-python",
   "name": "python",
   "nbconvert_exporter": "python",
   "pygments_lexer": "ipython3",
   "version": "3.8.16"
  }
 },
 "nbformat": 4,
 "nbformat_minor": 2
}
